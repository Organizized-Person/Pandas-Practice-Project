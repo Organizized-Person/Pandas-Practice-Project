{
 "cells": [
  {
   "cell_type": "code",
   "execution_count": 182,
   "metadata": {},
   "outputs": [
    {
     "name": "stdout",
     "output_type": "stream",
     "text": [
      "[[5.1 3.5 1.4 0.2 'setosa']\n",
      " [4.9 3.0 1.4 0.2 'setosa']\n",
      " [4.7 3.2 1.3 0.2 'setosa']\n",
      " [4.6 3.1 1.5 0.2 'setosa']\n",
      " [5.0 3.6 1.4 0.2 'setosa']\n",
      " [5.4 3.9 1.7 0.4 'setosa']\n",
      " [4.6 3.4 1.4 0.3 'setosa']\n",
      " [5.0 3.4 1.5 0.2 'setosa']\n",
      " [4.4 2.9 1.4 0.2 'setosa']\n",
      " [4.9 3.1 1.5 0.1 'setosa']\n",
      " [5.4 3.7 1.5 0.2 'setosa']\n",
      " [4.8 3.4 1.6 0.2 'setosa']\n",
      " [4.8 3.0 1.4 0.1 'setosa']\n",
      " [4.3 3.0 1.1 0.1 'setosa']\n",
      " [5.8 4.0 1.2 0.2 'setosa']\n",
      " [5.7 4.4 1.5 0.4 'setosa']\n",
      " [5.4 3.9 1.3 0.4 'setosa']\n",
      " [5.1 3.5 1.4 0.3 'setosa']\n",
      " [5.7 3.8 1.7 0.3 'setosa']\n",
      " [5.1 3.8 1.5 0.3 'setosa']\n",
      " [5.4 3.4 1.7 0.2 'setosa']\n",
      " [5.1 3.7 1.5 0.4 'setosa']\n",
      " [4.6 3.6 1.0 0.2 'setosa']\n",
      " [5.1 3.3 1.7 0.5 'setosa']\n",
      " [4.8 3.4 1.9 0.2 'setosa']\n",
      " [5.0 3.0 1.6 0.2 'setosa']\n",
      " [5.0 3.4 1.6 0.4 'setosa']\n",
      " [5.2 3.5 1.5 0.2 'setosa']\n",
      " [5.2 3.4 1.4 0.2 'setosa']\n",
      " [4.7 3.2 1.6 0.2 'setosa']\n",
      " [4.8 3.1 1.6 0.2 'setosa']\n",
      " [5.4 3.4 1.5 0.4 'setosa']\n",
      " [5.2 4.1 1.5 0.1 'setosa']\n",
      " [5.5 4.2 1.4 0.2 'setosa']\n",
      " [4.9 3.1 1.5 0.2 'setosa']\n",
      " [5.0 3.2 1.2 0.2 'setosa']\n",
      " [5.5 3.5 1.3 0.2 'setosa']\n",
      " [4.9 3.6 1.4 0.1 'setosa']\n",
      " [4.4 3.0 1.3 0.2 'setosa']\n",
      " [5.1 3.4 1.5 0.2 'setosa']\n",
      " [5.0 3.5 1.3 0.3 'setosa']\n",
      " [4.5 2.3 1.3 0.3 'setosa']\n",
      " [4.4 3.2 1.3 0.2 'setosa']\n",
      " [5.0 3.5 1.6 0.6 'setosa']\n",
      " [5.1 3.8 1.9 0.4 'setosa']\n",
      " [4.8 3.0 1.4 0.3 'setosa']\n",
      " [5.1 3.8 1.6 0.2 'setosa']\n",
      " [4.6 3.2 1.4 0.2 'setosa']\n",
      " [5.3 3.7 1.5 0.2 'setosa']\n",
      " [5.0 3.3 1.4 0.2 'setosa']\n",
      " [7.0 3.2 4.7 1.4 'versicolor']\n",
      " [6.4 3.2 4.5 1.5 'versicolor']\n",
      " [6.9 3.1 4.9 1.5 'versicolor']\n",
      " [5.5 2.3 4.0 1.3 'versicolor']\n",
      " [6.5 2.8 4.6 1.5 'versicolor']\n",
      " [5.7 2.8 4.5 1.3 'versicolor']\n",
      " [6.3 3.3 4.7 1.6 'versicolor']\n",
      " [4.9 2.4 3.3 1.0 'versicolor']\n",
      " [6.6 2.9 4.6 1.3 'versicolor']\n",
      " [5.2 2.7 3.9 1.4 'versicolor']\n",
      " [5.0 2.0 3.5 1.0 'versicolor']\n",
      " [5.9 3.0 4.2 1.5 'versicolor']\n",
      " [6.0 2.2 4.0 1.0 'versicolor']\n",
      " [6.1 2.9 4.7 1.4 'versicolor']\n",
      " [5.6 2.9 3.6 1.3 'versicolor']\n",
      " [6.7 3.1 4.4 1.4 'versicolor']\n",
      " [5.6 3.0 4.5 1.5 'versicolor']\n",
      " [5.8 2.7 4.1 1.0 'versicolor']\n",
      " [6.2 2.2 4.5 1.5 'versicolor']\n",
      " [5.6 2.5 3.9 1.1 'versicolor']\n",
      " [5.9 3.2 4.8 1.8 'versicolor']\n",
      " [6.1 2.8 4.0 1.3 'versicolor']\n",
      " [6.3 2.5 4.9 1.5 'versicolor']\n",
      " [6.1 2.8 4.7 1.2 'versicolor']\n",
      " [6.4 2.9 4.3 1.3 'versicolor']\n",
      " [6.6 3.0 4.4 1.4 'versicolor']\n",
      " [6.8 2.8 4.8 1.4 'versicolor']\n",
      " [6.7 3.0 5.0 1.7 'versicolor']\n",
      " [6.0 2.9 4.5 1.5 'versicolor']\n",
      " [5.7 2.6 3.5 1.0 'versicolor']\n",
      " [5.5 2.4 3.8 1.1 'versicolor']\n",
      " [5.5 2.4 3.7 1.0 'versicolor']\n",
      " [5.8 2.7 3.9 1.2 'versicolor']\n",
      " [6.0 2.7 5.1 1.6 'versicolor']\n",
      " [5.4 3.0 4.5 1.5 'versicolor']\n",
      " [6.0 3.4 4.5 1.6 'versicolor']\n",
      " [6.7 3.1 4.7 1.5 'versicolor']\n",
      " [6.3 2.3 4.4 1.3 'versicolor']\n",
      " [5.6 3.0 4.1 1.3 'versicolor']\n",
      " [5.5 2.5 4.0 1.3 'versicolor']\n",
      " [5.5 2.6 4.4 1.2 'versicolor']\n",
      " [6.1 3.0 4.6 1.4 'versicolor']\n",
      " [5.8 2.6 4.0 1.2 'versicolor']\n",
      " [5.0 2.3 3.3 1.0 'versicolor']\n",
      " [5.6 2.7 4.2 1.3 'versicolor']\n",
      " [5.7 3.0 4.2 1.2 'versicolor']\n",
      " [5.7 2.9 4.2 1.3 'versicolor']\n",
      " [6.2 2.9 4.3 1.3 'versicolor']\n",
      " [5.1 2.5 3.0 1.1 'versicolor']\n",
      " [5.7 2.8 4.1 1.3 'versicolor']\n",
      " [6.3 3.3 6.0 2.5 'virginica']\n",
      " [5.8 2.7 5.1 1.9 'virginica']\n",
      " [7.1 3.0 5.9 2.1 'virginica']\n",
      " [6.3 2.9 5.6 1.8 'virginica']\n",
      " [6.5 3.0 5.8 2.2 'virginica']\n",
      " [7.6 3.0 6.6 2.1 'virginica']\n",
      " [4.9 2.5 4.5 1.7 'virginica']\n",
      " [7.3 2.9 6.3 1.8 'virginica']\n",
      " [6.7 2.5 5.8 1.8 'virginica']\n",
      " [7.2 3.6 6.1 2.5 'virginica']\n",
      " [6.5 3.2 5.1 2.0 'virginica']\n",
      " [6.4 2.7 5.3 1.9 'virginica']\n",
      " [6.8 3.0 5.5 2.1 'virginica']\n",
      " [5.7 2.5 5.0 2.0 'virginica']\n",
      " [5.8 2.8 5.1 2.4 'virginica']\n",
      " [6.4 3.2 5.3 2.3 'virginica']\n",
      " [6.5 3.0 5.5 1.8 'virginica']\n",
      " [7.7 3.8 6.7 2.2 'virginica']\n",
      " [7.7 2.6 6.9 2.3 'virginica']\n",
      " [6.0 2.2 5.0 1.5 'virginica']\n",
      " [6.9 3.2 5.7 2.3 'virginica']\n",
      " [5.6 2.8 4.9 2.0 'virginica']\n",
      " [7.7 2.8 6.7 2.0 'virginica']\n",
      " [6.3 2.7 4.9 1.8 'virginica']\n",
      " [6.7 3.3 5.7 2.1 'virginica']\n",
      " [7.2 3.2 6.0 1.8 'virginica']\n",
      " [6.2 2.8 4.8 1.8 'virginica']\n",
      " [6.1 3.0 4.9 1.8 'virginica']\n",
      " [6.4 2.8 5.6 2.1 'virginica']\n",
      " [7.2 3.0 5.8 1.6 'virginica']\n",
      " [7.4 2.8 6.1 1.9 'virginica']\n",
      " [7.9 3.8 6.4 2.0 'virginica']\n",
      " [6.4 2.8 5.6 2.2 'virginica']\n",
      " [6.3 2.8 5.1 1.5 'virginica']\n",
      " [6.1 2.6 5.6 1.4 'virginica']\n",
      " [7.7 3.0 6.1 2.3 'virginica']\n",
      " [6.3 3.4 5.6 2.4 'virginica']\n",
      " [6.4 3.1 5.5 1.8 'virginica']\n",
      " [6.0 3.0 4.8 1.8 'virginica']\n",
      " [6.9 3.1 5.4 2.1 'virginica']\n",
      " [6.7 3.1 5.6 2.4 'virginica']\n",
      " [6.9 3.1 5.1 2.3 'virginica']\n",
      " [5.8 2.7 5.1 1.9 'virginica']\n",
      " [6.8 3.2 5.9 2.3 'virginica']\n",
      " [6.7 3.3 5.7 2.5 'virginica']\n",
      " [6.7 3.0 5.2 2.3 'virginica']\n",
      " [6.3 2.5 5.0 1.9 'virginica']\n",
      " [6.5 3.0 5.2 2.0 'virginica']\n",
      " [6.2 3.4 5.4 2.3 'virginica']\n",
      " [5.9 3.0 5.1 1.8 'virginica']]\n",
      "Index(['sepal_length', 'sepal_width', 'petal_length', 'petal_width',\n",
      "       'species'],\n",
      "      dtype='object')\n",
      "RangeIndex(start=0, stop=150, step=1)\n"
     ]
    }
   ],
   "source": [
    "import seaborn as sns\n",
    "import pandas as pd\n",
    "import numpy as np\n",
    "import matplotlib.pyplot as plt\n",
    "\n",
    "\n",
    "iris=sns.load_dataset('iris')\n",
    "print(iris.values)\n",
    "print(iris.columns)\n",
    "print(iris.index)"
   ]
  },
  {
   "cell_type": "code",
   "execution_count": 183,
   "metadata": {},
   "outputs": [
    {
     "data": {
      "text/html": [
       "<div>\n",
       "<style scoped>\n",
       "    .dataframe tbody tr th:only-of-type {\n",
       "        vertical-align: middle;\n",
       "    }\n",
       "\n",
       "    .dataframe tbody tr th {\n",
       "        vertical-align: top;\n",
       "    }\n",
       "\n",
       "    .dataframe thead th {\n",
       "        text-align: right;\n",
       "    }\n",
       "</style>\n",
       "<table border=\"1\" class=\"dataframe\">\n",
       "  <thead>\n",
       "    <tr style=\"text-align: right;\">\n",
       "      <th></th>\n",
       "      <th>sepal_length</th>\n",
       "      <th>sepal_width</th>\n",
       "      <th>petal_length</th>\n",
       "      <th>petal_width</th>\n",
       "      <th>species</th>\n",
       "    </tr>\n",
       "  </thead>\n",
       "  <tbody>\n",
       "    <tr>\n",
       "      <th>0</th>\n",
       "      <td>5.1</td>\n",
       "      <td>3.5</td>\n",
       "      <td>1.4</td>\n",
       "      <td>0.2</td>\n",
       "      <td>setosa</td>\n",
       "    </tr>\n",
       "    <tr>\n",
       "      <th>1</th>\n",
       "      <td>4.9</td>\n",
       "      <td>3.0</td>\n",
       "      <td>1.4</td>\n",
       "      <td>0.2</td>\n",
       "      <td>setosa</td>\n",
       "    </tr>\n",
       "    <tr>\n",
       "      <th>2</th>\n",
       "      <td>4.7</td>\n",
       "      <td>3.2</td>\n",
       "      <td>1.3</td>\n",
       "      <td>0.2</td>\n",
       "      <td>setosa</td>\n",
       "    </tr>\n",
       "    <tr>\n",
       "      <th>3</th>\n",
       "      <td>4.6</td>\n",
       "      <td>3.1</td>\n",
       "      <td>1.5</td>\n",
       "      <td>0.2</td>\n",
       "      <td>setosa</td>\n",
       "    </tr>\n",
       "    <tr>\n",
       "      <th>4</th>\n",
       "      <td>5.0</td>\n",
       "      <td>3.6</td>\n",
       "      <td>1.4</td>\n",
       "      <td>0.2</td>\n",
       "      <td>setosa</td>\n",
       "    </tr>\n",
       "  </tbody>\n",
       "</table>\n",
       "</div>"
      ],
      "text/plain": [
       "   sepal_length  sepal_width  petal_length  petal_width species\n",
       "0           5.1          3.5           1.4          0.2  setosa\n",
       "1           4.9          3.0           1.4          0.2  setosa\n",
       "2           4.7          3.2           1.3          0.2  setosa\n",
       "3           4.6          3.1           1.5          0.2  setosa\n",
       "4           5.0          3.6           1.4          0.2  setosa"
      ]
     },
     "execution_count": 183,
     "metadata": {},
     "output_type": "execute_result"
    }
   ],
   "source": [
    "iris.head()"
   ]
  },
  {
   "cell_type": "code",
   "execution_count": 184,
   "metadata": {},
   "outputs": [
    {
     "name": "stdout",
     "output_type": "stream",
     "text": [
      "The mean sepal length is 5.84cm.\n",
      "The mean sepal width is 3.06cm.\n"
     ]
    }
   ],
   "source": [
    "\n",
    "print('The mean sepal length is '+str(round(iris['sepal_length'].mean(),2))+'cm.')\n",
    "print('The mean sepal width is '+str(round(iris['sepal_width'].mean(),2))+'cm.')"
   ]
  },
  {
   "cell_type": "code",
   "execution_count": 185,
   "metadata": {},
   "outputs": [
    {
     "name": "stderr",
     "output_type": "stream",
     "text": [
      "/var/folders/bg/fbxc0vyx0jn3x_c_c5vtr8rh0000gn/T/ipykernel_96202/2913975378.py:1: FutureWarning: Indexing with multiple keys (implicitly converted to a tuple of keys) will be deprecated, use a list instead.\n",
      "  iris_by_species = iris.groupby('species')['petal_length','petal_width','sepal_length','sepal_width'].mean()\n"
     ]
    },
    {
     "data": {
      "text/html": [
       "<div>\n",
       "<style scoped>\n",
       "    .dataframe tbody tr th:only-of-type {\n",
       "        vertical-align: middle;\n",
       "    }\n",
       "\n",
       "    .dataframe tbody tr th {\n",
       "        vertical-align: top;\n",
       "    }\n",
       "\n",
       "    .dataframe thead th {\n",
       "        text-align: right;\n",
       "    }\n",
       "</style>\n",
       "<table border=\"1\" class=\"dataframe\">\n",
       "  <thead>\n",
       "    <tr style=\"text-align: right;\">\n",
       "      <th></th>\n",
       "      <th>petal_length</th>\n",
       "      <th>petal_width</th>\n",
       "      <th>sepal_length</th>\n",
       "      <th>sepal_width</th>\n",
       "    </tr>\n",
       "    <tr>\n",
       "      <th>species</th>\n",
       "      <th></th>\n",
       "      <th></th>\n",
       "      <th></th>\n",
       "      <th></th>\n",
       "    </tr>\n",
       "  </thead>\n",
       "  <tbody>\n",
       "    <tr>\n",
       "      <th>setosa</th>\n",
       "      <td>1.462</td>\n",
       "      <td>0.246</td>\n",
       "      <td>5.006</td>\n",
       "      <td>3.428</td>\n",
       "    </tr>\n",
       "    <tr>\n",
       "      <th>versicolor</th>\n",
       "      <td>4.260</td>\n",
       "      <td>1.326</td>\n",
       "      <td>5.936</td>\n",
       "      <td>2.770</td>\n",
       "    </tr>\n",
       "    <tr>\n",
       "      <th>virginica</th>\n",
       "      <td>5.552</td>\n",
       "      <td>2.026</td>\n",
       "      <td>6.588</td>\n",
       "      <td>2.974</td>\n",
       "    </tr>\n",
       "  </tbody>\n",
       "</table>\n",
       "</div>"
      ],
      "text/plain": [
       "            petal_length  petal_width  sepal_length  sepal_width\n",
       "species                                                         \n",
       "setosa             1.462        0.246         5.006        3.428\n",
       "versicolor         4.260        1.326         5.936        2.770\n",
       "virginica          5.552        2.026         6.588        2.974"
      ]
     },
     "execution_count": 185,
     "metadata": {},
     "output_type": "execute_result"
    }
   ],
   "source": [
    "iris_by_species = iris.groupby('species')['petal_length','petal_width','sepal_length','sepal_width'].mean()\n",
    "iris_by_species.head()"
   ]
  },
  {
   "cell_type": "markdown",
   "metadata": {},
   "source": [
    "Let's check for anomalies in our setosa dataframe.\n"
   ]
  },
  {
   "cell_type": "code",
   "execution_count": 186,
   "metadata": {},
   "outputs": [
    {
     "data": {
      "image/png": "[encoded data removed]",
      "text/plain": [
       "<Figure size 864x1008 with 4 Axes>"
      ]
     },
     "metadata": {
      "needs_background": "light"
     },
     "output_type": "display_data"
    }
   ],
   "source": [
    "#Checking the setosa data for any anomalies. The distributions seem normal. \n",
    "iris_setosa= iris[iris['species']=='setosa']\n",
    "\n",
    "fig, axs=plt.subplots(2,2,sharey=True,figsize=(12,14))\n",
    "\n",
    "\n",
    "axs[(0,0)].hist(iris_setosa['sepal_length'])\n",
    "axs[(0,0)].set_title('Sepal length (cm)')\n",
    "axs[(0,1)].hist(iris_setosa['sepal_width'])\n",
    "axs[(0,1)].set_title('Sepal width (cm)')\n",
    "axs[(1,0)].hist(iris_setosa['petal_length'])\n",
    "axs[(1,0)].set_title('Petal length (cm)')\n",
    "axs[(1,1)].hist(iris_setosa['petal_width'])\n",
    "axs[(1,1)].set_title('Petal length (cm)')\n",
    "\n",
    "plt.show()\n"
   ]
  },
  {
   "cell_type": "markdown",
   "metadata": {},
   "source": [
    "Everything seems normal. Now let's look at the correlations between our columns. Only the sepal width and sepal length have high correlations. "
   ]
  },
  {
   "cell_type": "code",
   "execution_count": 187,
   "metadata": {},
   "outputs": [
    {
     "data": {
      "text/html": [
       "<div>\n",
       "<style scoped>\n",
       "    .dataframe tbody tr th:only-of-type {\n",
       "        vertical-align: middle;\n",
       "    }\n",
       "\n",
       "    .dataframe tbody tr th {\n",
       "        vertical-align: top;\n",
       "    }\n",
       "\n",
       "    .dataframe thead th {\n",
       "        text-align: right;\n",
       "    }\n",
       "</style>\n",
       "<table border=\"1\" class=\"dataframe\">\n",
       "  <thead>\n",
       "    <tr style=\"text-align: right;\">\n",
       "      <th></th>\n",
       "      <th>sepal_length</th>\n",
       "      <th>sepal_width</th>\n",
       "      <th>petal_length</th>\n",
       "      <th>petal_width</th>\n",
       "    </tr>\n",
       "  </thead>\n",
       "  <tbody>\n",
       "    <tr>\n",
       "      <th>sepal_length</th>\n",
       "      <td>1.000000</td>\n",
       "      <td>0.742547</td>\n",
       "      <td>0.267176</td>\n",
       "      <td>0.278098</td>\n",
       "    </tr>\n",
       "    <tr>\n",
       "      <th>sepal_width</th>\n",
       "      <td>0.742547</td>\n",
       "      <td>1.000000</td>\n",
       "      <td>0.177700</td>\n",
       "      <td>0.232752</td>\n",
       "    </tr>\n",
       "    <tr>\n",
       "      <th>petal_length</th>\n",
       "      <td>0.267176</td>\n",
       "      <td>0.177700</td>\n",
       "      <td>1.000000</td>\n",
       "      <td>0.331630</td>\n",
       "    </tr>\n",
       "    <tr>\n",
       "      <th>petal_width</th>\n",
       "      <td>0.278098</td>\n",
       "      <td>0.232752</td>\n",
       "      <td>0.331630</td>\n",
       "      <td>1.000000</td>\n",
       "    </tr>\n",
       "  </tbody>\n",
       "</table>\n",
       "</div>"
      ],
      "text/plain": [
       "              sepal_length  sepal_width  petal_length  petal_width\n",
       "sepal_length      1.000000     0.742547      0.267176     0.278098\n",
       "sepal_width       0.742547     1.000000      0.177700     0.232752\n",
       "petal_length      0.267176     0.177700      1.000000     0.331630\n",
       "petal_width       0.278098     0.232752      0.331630     1.000000"
      ]
     },
     "execution_count": 187,
     "metadata": {},
     "output_type": "execute_result"
    }
   ],
   "source": [
    "iris_setosa.corr()"
   ]
  },
  {
   "cell_type": "code",
   "execution_count": 188,
   "metadata": {},
   "outputs": [
    {
     "data": {
      "text/plain": [
       "<seaborn.axisgrid.FacetGrid at 0x7fe762923df0>"
      ]
     },
     "execution_count": 188,
     "metadata": {},
     "output_type": "execute_result"
    },
    {
     "data": {
      "image/png": "[encoded data removed]",
      "text/plain": [
       "<Figure size 360x360 with 1 Axes>"
      ]
     },
     "metadata": {
      "needs_background": "light"
     },
     "output_type": "display_data"
    }
   ],
   "source": [
    "sns.relplot(data=iris_setosa, x='sepal_width',y='sepal_length')"
   ]
  },
  {
   "cell_type": "markdown",
   "metadata": {},
   "source": [
    "It seems like sepal length and widths are directly proportional. How about the other species' sepals?"
   ]
  },
  {
   "cell_type": "code",
   "execution_count": 189,
   "metadata": {},
   "outputs": [
    {
     "data": {
      "text/plain": [
       "<seaborn.axisgrid.FacetGrid at 0x7fe75bfdd9d0>"
      ]
     },
     "execution_count": 189,
     "metadata": {},
     "output_type": "execute_result"
    },
    {
     "data": {
      "image/png": "[encoded data removed]",
      "text/plain": [
       "<Figure size 444.75x360 with 1 Axes>"
      ]
     },
     "metadata": {
      "needs_background": "light"
     },
     "output_type": "display_data"
    }
   ],
   "source": [
    "sns.relplot(data=iris, x='sepal_width',y='sepal_length',hue='species')"
   ]
  },
  {
   "cell_type": "markdown",
   "metadata": {},
   "source": [
    "How are the petal and sepal dimensions of other species relate to each other?"
   ]
  },
  {
   "cell_type": "code",
   "execution_count": 190,
   "metadata": {},
   "outputs": [],
   "source": [
    "#create dataframes for versicolor and virginica\n",
    "iris_versicolor= iris[iris['species']=='versicolor']\n",
    "iris_virginica= iris[iris['species']=='virginica']"
   ]
  },
  {
   "cell_type": "code",
   "execution_count": 191,
   "metadata": {},
   "outputs": [
    {
     "data": {
      "text/html": [
       "<div>\n",
       "<style scoped>\n",
       "    .dataframe tbody tr th:only-of-type {\n",
       "        vertical-align: middle;\n",
       "    }\n",
       "\n",
       "    .dataframe tbody tr th {\n",
       "        vertical-align: top;\n",
       "    }\n",
       "\n",
       "    .dataframe thead th {\n",
       "        text-align: right;\n",
       "    }\n",
       "</style>\n",
       "<table border=\"1\" class=\"dataframe\">\n",
       "  <thead>\n",
       "    <tr style=\"text-align: right;\">\n",
       "      <th></th>\n",
       "      <th>sepal_length</th>\n",
       "      <th>sepal_width</th>\n",
       "      <th>petal_length</th>\n",
       "      <th>petal_width</th>\n",
       "    </tr>\n",
       "  </thead>\n",
       "  <tbody>\n",
       "    <tr>\n",
       "      <th>sepal_length</th>\n",
       "      <td>1.000000</td>\n",
       "      <td>0.525911</td>\n",
       "      <td>0.754049</td>\n",
       "      <td>0.546461</td>\n",
       "    </tr>\n",
       "    <tr>\n",
       "      <th>sepal_width</th>\n",
       "      <td>0.525911</td>\n",
       "      <td>1.000000</td>\n",
       "      <td>0.560522</td>\n",
       "      <td>0.663999</td>\n",
       "    </tr>\n",
       "    <tr>\n",
       "      <th>petal_length</th>\n",
       "      <td>0.754049</td>\n",
       "      <td>0.560522</td>\n",
       "      <td>1.000000</td>\n",
       "      <td>0.786668</td>\n",
       "    </tr>\n",
       "    <tr>\n",
       "      <th>petal_width</th>\n",
       "      <td>0.546461</td>\n",
       "      <td>0.663999</td>\n",
       "      <td>0.786668</td>\n",
       "      <td>1.000000</td>\n",
       "    </tr>\n",
       "  </tbody>\n",
       "</table>\n",
       "</div>"
      ],
      "text/plain": [
       "              sepal_length  sepal_width  petal_length  petal_width\n",
       "sepal_length      1.000000     0.525911      0.754049     0.546461\n",
       "sepal_width       0.525911     1.000000      0.560522     0.663999\n",
       "petal_length      0.754049     0.560522      1.000000     0.786668\n",
       "petal_width       0.546461     0.663999      0.786668     1.000000"
      ]
     },
     "execution_count": 191,
     "metadata": {},
     "output_type": "execute_result"
    }
   ],
   "source": [
    "iris_versicolor.corr()"
   ]
  },
  {
   "cell_type": "code",
   "execution_count": 192,
   "metadata": {},
   "outputs": [
    {
     "data": {
      "text/html": [
       "<div>\n",
       "<style scoped>\n",
       "    .dataframe tbody tr th:only-of-type {\n",
       "        vertical-align: middle;\n",
       "    }\n",
       "\n",
       "    .dataframe tbody tr th {\n",
       "        vertical-align: top;\n",
       "    }\n",
       "\n",
       "    .dataframe thead th {\n",
       "        text-align: right;\n",
       "    }\n",
       "</style>\n",
       "<table border=\"1\" class=\"dataframe\">\n",
       "  <thead>\n",
       "    <tr style=\"text-align: right;\">\n",
       "      <th></th>\n",
       "      <th>sepal_length</th>\n",
       "      <th>sepal_width</th>\n",
       "      <th>petal_length</th>\n",
       "      <th>petal_width</th>\n",
       "    </tr>\n",
       "  </thead>\n",
       "  <tbody>\n",
       "    <tr>\n",
       "      <th>sepal_length</th>\n",
       "      <td>1.000000</td>\n",
       "      <td>0.457228</td>\n",
       "      <td>0.864225</td>\n",
       "      <td>0.281108</td>\n",
       "    </tr>\n",
       "    <tr>\n",
       "      <th>sepal_width</th>\n",
       "      <td>0.457228</td>\n",
       "      <td>1.000000</td>\n",
       "      <td>0.401045</td>\n",
       "      <td>0.537728</td>\n",
       "    </tr>\n",
       "    <tr>\n",
       "      <th>petal_length</th>\n",
       "      <td>0.864225</td>\n",
       "      <td>0.401045</td>\n",
       "      <td>1.000000</td>\n",
       "      <td>0.322108</td>\n",
       "    </tr>\n",
       "    <tr>\n",
       "      <th>petal_width</th>\n",
       "      <td>0.281108</td>\n",
       "      <td>0.537728</td>\n",
       "      <td>0.322108</td>\n",
       "      <td>1.000000</td>\n",
       "    </tr>\n",
       "  </tbody>\n",
       "</table>\n",
       "</div>"
      ],
      "text/plain": [
       "              sepal_length  sepal_width  petal_length  petal_width\n",
       "sepal_length      1.000000     0.457228      0.864225     0.281108\n",
       "sepal_width       0.457228     1.000000      0.401045     0.537728\n",
       "petal_length      0.864225     0.401045      1.000000     0.322108\n",
       "petal_width       0.281108     0.537728      0.322108     1.000000"
      ]
     },
     "execution_count": 192,
     "metadata": {},
     "output_type": "execute_result"
    }
   ],
   "source": [
    "iris_virginica.corr()"
   ]
  },
  {
   "cell_type": "markdown",
   "metadata": {},
   "source": [
    "We can say that setosa, versicolor, and virginica can be distinguished by the shape and size of their petals and sepals. \n",
    "\n",
    "Let's say we want to see the relationshipe between petal length and width, together with the overall size of the sepal. We can create a new variable, sepal_area, by multiplying the lengths and widths of the sepals. We then pass these variable onto a relational plot. "
   ]
  },
  {
   "cell_type": "code",
   "execution_count": 204,
   "metadata": {},
   "outputs": [
    {
     "data": {
      "text/plain": [
       "<AxesSubplot:xlabel='sepal_width', ylabel='sepal_length'>"
      ]
     },
     "execution_count": 204,
     "metadata": {},
     "output_type": "execute_result"
    },
    {
     "data": {
      "image/png": "[encoded data removed]",
      "text/plain": [
       "<Figure size 720x360 with 2 Axes>"
      ]
     },
     "metadata": {
      "needs_background": "light"
     },
     "output_type": "display_data"
    }
   ],
   "source": [
    "fig, axes = plt.subplots(1,2,figsize=(10,5),sharey=False)\n",
    "fig.suptitle('Length vs width (cm)')\n",
    "\n",
    "iris['sepal_area']=iris['sepal_length']*iris['sepal_width']\n",
    "#irises are purple. Let's use a purple color palette to show our data.\n",
    "\n",
    "sns.set_palette(\"Purples\",3)\n",
    "sns.scatterplot(data=iris, x='petal_width',y='petal_length',hue='species',ax=axes[0])\n",
    "\n",
    "sns.scatterplot(data=iris, x='sepal_width',y='sepal_length',hue='species',ax=axes[1],legend=False)\n"
   ]
  },
  {
   "cell_type": "markdown",
   "metadata": {},
   "source": [
    "It seems that we were right about these species being distinguishable by petal shape and size. Setosa is the species with the smallest petals (by a large margin), while virginica is the species with the largest petals, with versicolor coming in at a close second. \n",
    "\n",
    "Another observation is the relative sepal size among the three species. Setosa can have the shortest sepals but also the widest. While versicolor and virginica share the same sepal features. That is, they both tend to be more slender than that of the setosa."
   ]
  },
  {
   "cell_type": "markdown",
   "metadata": {},
   "source": [
    "Let's create a separate column in our dataframe containing the ratio of the petal length to width. "
   ]
  },
  {
   "cell_type": "markdown",
   "metadata": {},
   "source": []
  },
  {
   "cell_type": "code",
   "execution_count": 194,
   "metadata": {},
   "outputs": [],
   "source": [
    "iris['petal_ratio']=iris['petal_width']/iris['petal_length']\n",
    "# .reset_index() turns the aggregate groupby into a dataframe that retains hierarchy\n",
    "iris_petal_stats = []\n",
    "iris_petal_stats = pd.DataFrame(iris_petal_stats)\n"
   ]
  },
  {
   "cell_type": "markdown",
   "metadata": {},
   "source": [
    "I'll create a dataframe containing the average petal ratio, length, and width of each species. "
   ]
  },
  {
   "cell_type": "code",
   "execution_count": 195,
   "metadata": {},
   "outputs": [],
   "source": [
    "iris_petal_stats['shape']=iris.groupby('species')['petal_ratio'].mean()\n",
    "iris_petal_stats['length']=iris.groupby('species')['petal_length'].mean()\n",
    "iris_petal_stats['width']=iris.groupby('species')['petal_width'].mean()\n",
    "iris_petal_stats=iris_petal_stats.reset_index()"
   ]
  },
  {
   "cell_type": "code",
   "execution_count": 196,
   "metadata": {},
   "outputs": [
    {
     "data": {
      "text/html": [
       "<div>\n",
       "<style scoped>\n",
       "    .dataframe tbody tr th:only-of-type {\n",
       "        vertical-align: middle;\n",
       "    }\n",
       "\n",
       "    .dataframe tbody tr th {\n",
       "        vertical-align: top;\n",
       "    }\n",
       "\n",
       "    .dataframe thead th {\n",
       "        text-align: right;\n",
       "    }\n",
       "</style>\n",
       "<table border=\"1\" class=\"dataframe\">\n",
       "  <thead>\n",
       "    <tr style=\"text-align: right;\">\n",
       "      <th></th>\n",
       "      <th>species</th>\n",
       "      <th>shape</th>\n",
       "      <th>length</th>\n",
       "      <th>width</th>\n",
       "    </tr>\n",
       "  </thead>\n",
       "  <tbody>\n",
       "    <tr>\n",
       "      <th>0</th>\n",
       "      <td>setosa</td>\n",
       "      <td>0.167868</td>\n",
       "      <td>1.462</td>\n",
       "      <td>0.246</td>\n",
       "    </tr>\n",
       "    <tr>\n",
       "      <th>1</th>\n",
       "      <td>versicolor</td>\n",
       "      <td>0.311106</td>\n",
       "      <td>4.260</td>\n",
       "      <td>1.326</td>\n",
       "    </tr>\n",
       "    <tr>\n",
       "      <th>2</th>\n",
       "      <td>virginica</td>\n",
       "      <td>0.366739</td>\n",
       "      <td>5.552</td>\n",
       "      <td>2.026</td>\n",
       "    </tr>\n",
       "  </tbody>\n",
       "</table>\n",
       "</div>"
      ],
      "text/plain": [
       "      species     shape  length  width\n",
       "0      setosa  0.167868   1.462  0.246\n",
       "1  versicolor  0.311106   4.260  1.326\n",
       "2   virginica  0.366739   5.552  2.026"
      ]
     },
     "execution_count": 196,
     "metadata": {},
     "output_type": "execute_result"
    }
   ],
   "source": [
    "iris_petal_stats"
   ]
  },
  {
   "cell_type": "code",
   "execution_count": 202,
   "metadata": {},
   "outputs": [
    {
     "data": {
      "text/plain": [
       "Text(0.5, 1.0, 'Average petal width (cm)')"
      ]
     },
     "execution_count": 202,
     "metadata": {},
     "output_type": "execute_result"
    },
    {
     "data": {
      "image/png": "[encoded data removed]",
      "text/plain": [
       "<Figure size 720x360 with 2 Axes>"
      ]
     },
     "metadata": {
      "needs_background": "light"
     },
     "output_type": "display_data"
    }
   ],
   "source": [
    "fig, axes = plt.subplots(1,2,figsize=(10,5),sharey=False)\n",
    "fig.suptitle('Iris petal average dimensions (cm)')\n",
    "\n",
    "#petal length\n",
    "sns.barplot(data=iris_petal_stats,x='species',y='length',ax=axes[0])\n",
    "axes[0].set_title('Average petal length')\n",
    "#petal width\n",
    "sns.barplot(data=iris_petal_stats,x='species',y='width',ax=axes[1])\n",
    "axes[1].set_title('Average petal width')\n",
    "\n",
    "#note: catplot does not accept target axes. Hence, the use of barplot. \n",
    "#note: petal ratio is not included in the subplot because it does not have units. "
   ]
  },
  {
   "cell_type": "code",
   "execution_count": 198,
   "metadata": {},
   "outputs": [
    {
     "data": {
      "text/plain": [
       "Text(0.5, 0.98, 'Average petal width vs length ratio')"
      ]
     },
     "execution_count": 198,
     "metadata": {},
     "output_type": "execute_result"
    },
    {
     "data": {
      "image/png": "[encoded data removed]",
      "text/plain": [
       "<Figure size 360x360 with 1 Axes>"
      ]
     },
     "metadata": {
      "needs_background": "light"
     },
     "output_type": "display_data"
    }
   ],
   "source": [
    "fig, axes = plt.subplots(1,1,figsize=(5,5),sharey=True)\n",
    "\n",
    "#petal ratio\n",
    "sns.barplot(data=iris_petal_stats,x='species',y='shape')\n",
    "fig.suptitle('Average petal width vs length ratio')"
   ]
  },
  {
   "cell_type": "markdown",
   "metadata": {},
   "source": [
    "From the above barplot, we can say that on average, setosa petals are wider than longer, while both versicolor and virginica have slimmer petals. "
   ]
  },
  {
   "cell_type": "markdown",
   "metadata": {},
   "source": []
  },
  {
   "cell_type": "code",
   "execution_count": 201,
   "metadata": {},
   "outputs": [],
   "source": [
    "#setting a dataframe containing averages for sepal dimensions\n",
    "iris_sepal_stats = []\n",
    "iris_sepal_stats = pd.DataFrame(iris_sepal_stats)\n",
    "#creating sepal ratio \n",
    "iris['sepal_ratio']=iris['sepal_width']/iris['sepal_length']\n",
    "\n",
    "#filling our empty dataframe \n",
    "iris_sepal_stats['shape']=iris.groupby('species')['petal_ratio'].mean()\n",
    "iris_sepal_stats['length']=iris.groupby('species')['petal_length'].mean()\n",
    "iris_sepal_stats['width']=iris.groupby('species')['petal_width'].mean()\n",
    "iris_sepal_stats=iris_petal_stats.reset_index()"
   ]
  },
  {
   "cell_type": "code",
   "execution_count": 203,
   "metadata": {},
   "outputs": [
    {
     "data": {
      "text/plain": [
       "Text(0.5, 1.0, 'Average sepal width')"
      ]
     },
     "execution_count": 203,
     "metadata": {},
     "output_type": "execute_result"
    },
    {
     "data": {
      "image/png": "[encoded data removed]",
      "text/plain": [
       "<Figure size 720x360 with 2 Axes>"
      ]
     },
     "metadata": {
      "needs_background": "light"
     },
     "output_type": "display_data"
    }
   ],
   "source": [
    "fig, axes = plt.subplots(1,2,figsize=(10,5),sharey=False)\n",
    "fig.suptitle('Iris sepal average dimensions (cm)')\n",
    "\n",
    "#petal length\n",
    "sns.barplot(data=iris_sepal_stats,x='species',y='length',ax=axes[0])\n",
    "axes[0].set_title('Average sepal length')\n",
    "#petal width\n",
    "sns.barplot(data=iris_sepal_stats,x='species',y='width',ax=axes[1])\n",
    "axes[1].set_title('Average sepal width')\n"
   ]
  },
  {
   "cell_type": "code",
   "execution_count": 205,
   "metadata": {},
   "outputs": [
    {
     "data": {
      "text/plain": [
       "Text(0.5, 0.98, 'Average petal width vs length ratio')"
      ]
     },
     "execution_count": 205,
     "metadata": {},
     "output_type": "execute_result"
    },
    {
     "data": {
      "image/png": "[encoded data removed]",
      "text/plain": [
       "<Figure size 360x360 with 1 Axes>"
      ]
     },
     "metadata": {
      "needs_background": "light"
     },
     "output_type": "display_data"
    }
   ],
   "source": [
    "fig, axes = plt.subplots(1,1,figsize=(5,5),sharey=True)\n",
    "\n",
    "#petal ratio\n",
    "sns.barplot(data=iris_petal_stats,x='species',y='shape')\n",
    "fig.suptitle('Average petal width vs length ratio')"
   ]
  },
  {
   "cell_type": "code",
   "execution_count": null,
   "metadata": {},
   "outputs": [],
   "source": []
  }
 ],
 "metadata": {
  "kernelspec": {
   "display_name": "base",
   "language": "python",
   "name": "python3"
  },
  "language_info": {
   "codemirror_mode": {
    "name": "ipython",
    "version": 3
   },
   "file_extension": ".py",
   "mimetype": "text/x-python",
   "name": "python",
   "nbconvert_exporter": "python",
   "pygments_lexer": "ipython3",
   "version": "3.9.12"
  }
 },
 "nbformat": 4,
 "nbformat_minor": 2
}
